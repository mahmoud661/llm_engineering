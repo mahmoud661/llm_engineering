{
 "cells": [
  {
   "cell_type": "markdown",
   "id": "d15d8294-3328-4e07-ad16-8a03e9bbfdb9",
   "metadata": {},
   "source": [
    "# Welcome to your first assignment!\n",
    "\n",
    "Instructions are below. Please give this a try, and look in the solutions folder if you get stuck (or feel free to ask me!)"
   ]
  },
  {
   "cell_type": "markdown",
   "id": "ada885d9-4d42-4d9b-97f0-74fbbbfe93a9",
   "metadata": {},
   "source": [
    "<table style=\"margin: 0; text-align: left;\">\n",
    "    <tr>\n",
    "        <td style=\"width: 150px; height: 150px; vertical-align: middle;\">\n",
    "            <img src=\"../resources.jpg\" width=\"150\" height=\"150\" style=\"display: block;\" />\n",
    "        </td>\n",
    "        <td>\n",
    "            <h2 style=\"color:#f71;\">Just before we get to the assignment --</h2>\n",
    "            <span style=\"color:#f71;\">I thought I'd take a second to point you at this page of useful resources for the course. This includes links to all the slides.<br/>\n",
    "            <a href=\"https://edwarddonner.com/2024/11/13/llm-engineering-resources/\">https://edwarddonner.com/2024/11/13/llm-engineering-resources/</a><br/>\n",
    "            Please keep this bookmarked, and I'll continue to add more useful links there over time.\n",
    "            </span>\n",
    "        </td>\n",
    "    </tr>\n",
    "</table>"
   ]
  },
  {
   "cell_type": "markdown",
   "id": "6e9fa1fc-eac5-4d1d-9be4-541b3f2b3458",
   "metadata": {},
   "source": [
    "# HOMEWORK EXERCISE ASSIGNMENT\n",
    "\n",
    "Upgrade the day 1 project to summarize a webpage to use an Open Source model running locally via Ollama rather than OpenAI\n",
    "\n",
    "You'll be able to use this technique for all subsequent projects if you'd prefer not to use paid APIs.\n",
    "\n",
    "**Benefits:**\n",
    "1. No API charges - open-source\n",
    "2. Data doesn't leave your box\n",
    "\n",
    "**Disadvantages:**\n",
    "1. Significantly less power than Frontier Model\n",
    "\n",
    "## Recap on installation of Ollama\n",
    "\n",
    "Simply visit [ollama.com](https://ollama.com) and install!\n",
    "\n",
    "Once complete, the ollama server should already be running locally.  \n",
    "If you visit:  \n",
    "[http://localhost:11434/](http://localhost:11434/)\n",
    "\n",
    "You should see the message `Ollama is running`.  \n",
    "\n",
    "If not, bring up a new Terminal (Mac) or Powershell (Windows) and enter `ollama serve`  \n",
    "And in another Terminal (Mac) or Powershell (Windows), enter `ollama pull llama3.2`  \n",
    "Then try [http://localhost:11434/](http://localhost:11434/) again.\n",
    "\n",
    "If Ollama is slow on your machine, try using `llama3.2:1b` as an alternative. Run `ollama pull llama3.2:1b` from a Terminal or Powershell, and change the code below from `MODEL = \"llama3.2\"` to `MODEL = \"llama3.2:1b\"`"
   ]
  },
  {
   "cell_type": "code",
   "execution_count": 1,
   "id": "4e2a9393-7767-488e-a8bf-27c12dca35bd",
   "metadata": {},
   "outputs": [],
   "source": [
    "# imports\n",
    "\n",
    "import requests\n",
    "from bs4 import BeautifulSoup\n",
    "from IPython.display import Markdown, display"
   ]
  },
  {
   "cell_type": "code",
   "execution_count": 8,
   "id": "29ddd15d-a3c5-4f4e-a678-873f56162724",
   "metadata": {},
   "outputs": [],
   "source": [
    "# Constants\n",
    "\n",
    "OLLAMA_API = \"http://localhost:11434/api/chat\"\n",
    "HEADERS = {\"Content-Type\": \"application/json\"}\n",
    "MODEL = \"llama3.2\""
   ]
  },
  {
   "cell_type": "code",
   "execution_count": 9,
   "id": "dac0a679-599c-441f-9bf2-ddc73d35b940",
   "metadata": {},
   "outputs": [],
   "source": [
    "# Create a messages list using the same format that we used for OpenAI\n",
    "\n",
    "messages = [\n",
    "    {\"role\": \"user\", \"content\": \"Describe some of the business applications of Generative AI\"}\n",
    "]"
   ]
  },
  {
   "cell_type": "code",
   "execution_count": 16,
   "id": "7bb9c624-14f0-4945-a719-8ddb64f66f47",
   "metadata": {},
   "outputs": [],
   "source": [
    "payload = {\n",
    "        \"model\": MODEL,\n",
    "        \"messages\": messages,\n",
    "        \"stream\": False\n",
    "    }"
   ]
  },
  {
   "cell_type": "code",
   "execution_count": 17,
   "id": "479ff514-e8bd-4985-a572-2ea28bb4fa40",
   "metadata": {},
   "outputs": [],
   "source": [
    "# Let's just make sure the model is loaded\n",
    "\n",
    "# !ollama pull llama3.2"
   ]
  },
  {
   "cell_type": "code",
   "execution_count": 18,
   "id": "42b9f644-522d-4e05-a691-56e7658c0ea9",
   "metadata": {},
   "outputs": [
    {
     "name": "stdout",
     "output_type": "stream",
     "text": [
      "Generative AI has numerous business applications across various industries, including:\n",
      "\n",
      "1. **Content Creation**: AI-generated content such as images, videos, and text can be used to create unique and engaging content for marketing campaigns, social media, and e-commerce websites.\n",
      "2. **Personalized Marketing**: Generative AI can help personalize customer experiences by generating tailored recommendations, offers, and product suggestions based on individual preferences and behavior.\n",
      "3. **Design and Architecture**: AI-powered design tools can generate 3D models, floor plans, and other architectural designs, streamlining the design process and reducing costs.\n",
      "4. **Supply Chain Optimization**: Generative AI can analyze data from various sources to predict demand, optimize inventory levels, and identify areas for improvement in supply chain management.\n",
      "5. **Customer Service Chatbots**: AI-generated chatbots can provide 24/7 customer support, answering frequently asked questions, and routing complex issues to human representatives.\n",
      "6. **Data Analysis and Insights**: Generative AI can analyze large datasets to identify patterns, trends, and insights that may not be apparent through traditional analysis methods.\n",
      "7. **Cybersecurity Threat Detection**: AI-powered systems can detect and respond to cyber threats in real-time, reducing the risk of data breaches and other security incidents.\n",
      "8. **Creative Writing and Editing**: Generative AI can assist writers with content generation, editing, and proofreading, improving productivity and quality.\n",
      "9. **Music and Audio Generation**: AI-generated music and audio can be used for various applications such as advertising, entertainment, and education.\n",
      "10. **Predictive Maintenance**: Generative AI can analyze sensor data from machines to predict maintenance needs, reducing downtime and increasing overall equipment effectiveness.\n",
      "11. **Sales Forecasting**: AI-powered systems can analyze sales data, market trends, and customer behavior to generate accurate forecasts and optimize sales strategies.\n",
      "12. **Image and Video Editing**: AI-generated images and videos can be used for various applications such as film production, advertising, and e-commerce product visuals.\n",
      "13. **Language Translation**: Generative AI can translate languages in real-time, enabling global communication and collaboration across language barriers.\n",
      "14. **Financial Modeling and Analysis**: AI-powered systems can analyze financial data to identify trends, predict market movements, and optimize investment strategies.\n",
      "15. **Hiring and Talent Acquisition**: AI-generated candidate recommendations and chatbots can help streamline the hiring process, improving time-to-hire and reducing costs.\n",
      "\n",
      "These are just a few examples of the many business applications of Generative AI. As the technology continues to evolve, we can expect to see even more innovative uses across various industries.\n"
     ]
    }
   ],
   "source": [
    "# If this doesn't work for any reason, try the 2 versions in the following cells\n",
    "# And double check the instructions in the 'Recap on installation of Ollama' at the top of this lab\n",
    "# And if none of that works - contact me!\n",
    "\n",
    "response = requests.post(OLLAMA_API, json=payload, headers=HEADERS)\n",
    "print(response.json()['message']['content'])"
   ]
  },
  {
   "cell_type": "markdown",
   "id": "6a021f13-d6a1-4b96-8e18-4eae49d876fe",
   "metadata": {},
   "source": [
    "# Introducing the ollama package\n",
    "\n",
    "And now we'll do the same thing, but using the elegant ollama python package instead of a direct HTTP call.\n",
    "\n",
    "Under the hood, it's making the same call as above to the ollama server running at localhost:11434"
   ]
  },
  {
   "cell_type": "code",
   "execution_count": 21,
   "id": "8260dbcd",
   "metadata": {},
   "outputs": [
    {
     "name": "stdout",
     "output_type": "stream",
     "text": [
      "Note: you may need to restart the kernel to use updated packages.\n"
     ]
    }
   ],
   "source": [
    "pip -q install ollama"
   ]
  },
  {
   "cell_type": "code",
   "execution_count": 22,
   "id": "7745b9c4-57dc-4867-9180-61fa5db55eb8",
   "metadata": {},
   "outputs": [
    {
     "name": "stdout",
     "output_type": "stream",
     "text": [
      "Generative AI has numerous business applications across various industries. Here are some examples:\n",
      "\n",
      "1. **Content Creation**: Generative AI can be used to generate high-quality content, such as:\n",
      "\t* Articles and blog posts\n",
      "\t* Social media posts and captions\n",
      "\t* Product descriptions and marketing copy\n",
      "\t* Music and audio tracks\n",
      "2. **Marketing and Advertising**:\n",
      "\t* Personalized product recommendations\n",
      "\t* Customized ad copy and images\n",
      "\t* Automated social media posting\n",
      "\t* Predictive analytics for customer behavior\n",
      "3. **Product Design and Development**: Generative AI can help design:\n",
      "\t* Product prototypes and mockups\n",
      "\t* Custom furniture and interior designs\n",
      "\t* Fashion clothing and accessories\n",
      "\t* Architectural designs and blueprints\n",
      "4. **Sales and Customer Service**:\n",
      "\t* Personalized product recommendations\n",
      "\t* Automated chatbots and customer support\n",
      "\t* Sentiment analysis for customer feedback\n",
      "\t* Predictive analytics for sales forecasting\n",
      "5. **Supply Chain Management**: Generative AI can help optimize:\n",
      "\t* Supply chain logistics and transportation\n",
      "\t* Inventory management and demand forecasting\n",
      "\t* Quality control and defect detection\n",
      "\t* Risk prediction and mitigation\n",
      "6. **Financial Analysis and Modeling**: Generative AI can be used to analyze:\n",
      "\t* Financial market trends and predictions\n",
      "\t* Credit risk assessment and modeling\n",
      "\t* Portfolio optimization and diversification\n",
      "\t* Stress testing for financial stability\n",
      "7. **Human Resources and Talent Acquisition**:\n",
      "\t* Automated resume screening and candidate matching\n",
      "\t* Personalized job descriptions and interview questions\n",
      "\t* Predictive analytics for talent forecasting\n",
      "\t* Diversity and inclusion metrics analysis\n",
      "8. **Education and Training**:\n",
      "\t* Personalized learning plans and content creation\n",
      "\t* Automated grading and feedback\n",
      "\t* Intelligent tutoring systems and adaptive learning\n",
      "\t* Content recommendation and course optimization\n",
      "9. **Medical Diagnosis and Treatment**: Generative AI can help analyze:\n",
      "\t* Medical images and diagnostics\n",
      "\t* Patient data and medical history\n",
      "\t* Predictive modeling for disease risk assessment\n",
      "\t* Treatment plan optimization and personalized medicine\n",
      "10. **Cybersecurity**: Generative AI can be used to detect:\n",
      "\t* Advanced threats and malware\n",
      "\t* Network intrusion detection and response\n",
      "\t* Anomaly detection for security monitoring\n",
      "\t* Predictive analytics for threat forecasting\n",
      "\n",
      "These are just a few examples of the many business applications of Generative AI. As the technology continues to evolve, we can expect to see even more innovative uses across various industries.\n"
     ]
    }
   ],
   "source": [
    "import ollama\n",
    "\n",
    "\n",
    "response = ollama.chat(model=MODEL, messages=messages)\n",
    "print(response['message']['content'])"
   ]
  },
  {
   "cell_type": "markdown",
   "id": "a4704e10-f5fb-4c15-a935-f046c06fb13d",
   "metadata": {},
   "source": [
    "## Alternative approach - using OpenAI python library to connect to Ollama"
   ]
  },
  {
   "cell_type": "code",
   "execution_count": 23,
   "id": "23057e00-b6fc-4678-93a9-6b31cb704bff",
   "metadata": {},
   "outputs": [
    {
     "name": "stdout",
     "output_type": "stream",
     "text": [
      "Generative AI has numerous business applications across various industries, including:\n",
      "\n",
      "1. **Content Creation**: Generative AI can be used to generate high-quality content such as:\n",
      " * Images and videos\n",
      " * Articles and blog posts\n",
      " * Social media posts and comments\n",
      " * Product descriptions and product recommendations\n",
      "2. **Marketing Automation**: Generative AI can help automate marketing processes by:\n",
      " * Generating personalized advertisements and social media posts\n",
      " * Creating dynamic CTAs (calls-to-action) for emails and ads\n",
      " * Analyzing consumer behavior and preferences to make targeted content suggestions\n",
      "3. **Customer Service**: Generative AI can be used to power chatbots and virtual assistants that:\n",
      " * Provide 24/7 customer support\n",
      " * Offer personalized product recommendations and order tracking information\n",
      " * Help customers with common issues and provide basic troubleshooting advice\n",
      "4. **Product Development**: Generative AI can assist in the design of new products by:\n",
      " * Generating 3D models and prototypes\n",
      " * Creating custom sketches and blueprints\n",
      " * Estimating performance, energy consumption, and other crucial factors during the development process\n",
      "5. **Financial Services**: Generative AI can be used to analyze large datasets in finance such as:\n",
      " * Trading data: generating stock predictions and trading strategies\n",
      " * Risk analysis: detecting anomalies in customer behavior and account activity\n",
      "6. **Education**: Generative AI can create personalized learning materials, such as interactive lessons, quizzes, and assessments that adapt to individual students' needs.\n",
      "7. **Creative Industries**: Generative AI can be used by writers, designers, artists, musicians, etc., to generate new ideas or to assist in the creation of original work\n"
     ]
    }
   ],
   "source": [
    "# There's actually an alternative approach that some people might prefer\n",
    "# You can use the OpenAI client python library to call Ollama:\n",
    "\n",
    "from openai import OpenAI\n",
    "ollama_via_openai = OpenAI(base_url='http://localhost:11434/v1', api_key='ollama')\n",
    "\n",
    "response = ollama_via_openai.chat.completions.create(\n",
    "    model=MODEL,\n",
    "    messages=messages\n",
    ")\n",
    "\n",
    "print(response.choices[0].message.content)"
   ]
  },
  {
   "cell_type": "markdown",
   "id": "9f9e22da-b891-41f6-9ac9-bd0c0a5f4f44",
   "metadata": {},
   "source": [
    "## Are you confused about why that works?\n",
    "\n",
    "It seems strange, right? We just used OpenAI code to call Ollama?? What's going on?!\n",
    "\n",
    "Here's the scoop:\n",
    "\n",
    "The python class `OpenAI` is simply code written by OpenAI engineers that makes calls over the internet to an endpoint.  \n",
    "\n",
    "When you call `openai.chat.completions.create()`, this python code just makes a web request to the following url: \"https://api.openai.com/v1/chat/completions\"\n",
    "\n",
    "Code like this is known as a \"client library\" - it's just wrapper code that runs on your machine to make web requests. The actual power of GPT is running on OpenAI's cloud behind this API, not on your computer!\n",
    "\n",
    "OpenAI was so popular, that lots of other AI providers provided identical web endpoints, so you could use the same approach.\n",
    "\n",
    "So Ollama has an endpoint running on your local box at http://localhost:11434/v1/chat/completions  \n",
    "And in week 2 we'll discover that lots of other providers do this too, including Gemini and DeepSeek.\n",
    "\n",
    "And then the team at OpenAI had a great idea: they can extend their client library so you can specify a different 'base url', and use their library to call any compatible API.\n",
    "\n",
    "That's it!\n",
    "\n",
    "So when you say: `ollama_via_openai = OpenAI(base_url='http://localhost:11434/v1', api_key='ollama')`  \n",
    "Then this will make the same endpoint calls, but to Ollama instead of OpenAI."
   ]
  },
  {
   "cell_type": "markdown",
   "id": "bc7d1de3-e2ac-46ff-a302-3b4ba38c4c90",
   "metadata": {},
   "source": [
    "## Also trying the amazing reasoning model DeepSeek\n",
    "\n",
    "Here we use the version of DeepSeek-reasoner that's been distilled to 1.5B.  \n",
    "This is actually a 1.5B variant of Qwen that has been fine-tuned using synethic data generated by Deepseek R1.\n",
    "\n",
    "Other sizes of DeepSeek are [here](https://ollama.com/library/deepseek-r1) all the way up to the full 671B parameter version, which would use up 404GB of your drive and is far too large for most!"
   ]
  },
  {
   "cell_type": "code",
   "execution_count": null,
   "id": "cf9eb44e-fe5b-47aa-b719-0bb63669ab3d",
   "metadata": {},
   "outputs": [],
   "source": [
    "!ollama pull deepseek-r1:1.5b"
   ]
  },
  {
   "cell_type": "code",
   "execution_count": 24,
   "id": "1d3d554b-e00d-4c08-9300-45e073950a76",
   "metadata": {},
   "outputs": [
    {
     "name": "stdout",
     "output_type": "stream",
     "text": [
      "<think>\n",
      "Okay, so I need to figure out the definition of \"LLMs\" including \"neural networks,\" \"attention,\" and \"the transformer.\" Hmm, let's start by breaking down each part.\n",
      "\n",
      "I know that an LLM stands for Large Language Model. It's a type of AI designed to understand and generate human language. So, defining it as a flexible system capable of various tasks related to language makes sense. But I should make sure there's more detail to make the definition comprehensive.\n",
      "\n",
      "Next, the neural network part. Neural networks are computational models inspired by the structure and function of biological neural systems. They consist of layers of interconnected nodes or \"neurons,\" which process and transmit information. The core components include input layer, hidden layers with activation functions, output layer, and a series of connections between these layers that can learn from data.\n",
      "\n",
      "Now, attention. I remember hearing about something called self-attention in the context of transformers within LLMs. So, attention is like how different parts of the model focus on different parts of the input at the same time. It's often implemented using multi-head attention, which allows multiple heads to simultaneously attend to the same set of tokens.\n",
      "\n",
      "The transformer refers to a specific architecture used in these models that processes sequences of data (like text) by moving through multiple segments and processing each segment in a parallel fashion. The key components here are self-attention and feed-forward networks. Self-attention captures the contextual relationships, while feed-forward processes information in a linear way without any recurrent dependencies.\n",
      "\n",
      "Putting it all together, LLMs are neural systems that use attention mechanisms, especially those found within transformers, to understand and generate human language. They enable tasks like translation, summarization, text generation, and context understanding by learning from vast amounts of data and self-attentively generating outputs.\n",
      "\n",
      "I think I have a good grasp now, but maybe I should double-check if there are any other related concepts or variations in how attention is implemented across different LLMs. Also, ensuring that the definitions cover both the overall structure and more specific components like attention mechanisms might be important for completeness.\n",
      "</think>\n",
      "\n",
      "**Definition of Core Concepts Behind Large Language Models (LLMs):**\n",
      "\n",
      "A **Large Language Model (LLM)** is an artificial intelligence system designed to understand and generate human language, capable of a wide range of natural language-related tasks. It functions by processing inputs through its neural network structure, which includes:\n",
      "\n",
      "1. **Neural Network**: \n",
      "   - Comprising layers, such as input layer, hidden layers with activation functions, output layer, and connections between these layers.\n",
      "   - The core components include neurons in each layer that activate based on weighted inputs to produce outputs.\n",
      "\n",
      "2. **Attention Mechanism**:\n",
      "   - Also known as self-attention, it enables the model to focus on different parts of the input simultaneously at the same time.\n",
      "   - Implemented through multi-head attention mechanisms, allowing multiple heads to attend to the same set of tokens independently.\n",
      "\n",
      "3. **Transformer Architecture**:\n",
      "   - A specific neural network structure that processes sequences (like text) by moving through several segments.\n",
      "   - Features self-attention for context-finding and feed-forward networks for data transformation in parallel.\n",
      "\n",
      "These components enable LLMs to understand inputs, capture context from multiple perspectives, and generate outputs, enabling tasks like translation, summarization, and understanding context.\n"
     ]
    }
   ],
   "source": [
    "# This may take a few minutes to run! You should then see a fascinating \"thinking\" trace inside <think> tags, followed by some decent definitions\n",
    "\n",
    "response = ollama_via_openai.chat.completions.create(\n",
    "    model=\"deepseek-r1:1.5b\",\n",
    "    messages=[{\"role\": \"user\", \"content\": \"Please give definitions of some core concepts behind LLMs: a neural network, attention and the transformer\"}]\n",
    ")\n",
    "\n",
    "print(response.choices[0].message.content)"
   ]
  },
  {
   "cell_type": "markdown",
   "id": "1622d9bb-5c68-4d4e-9ca4-b492c751f898",
   "metadata": {},
   "source": [
    "# NOW the exercise for you\n",
    "\n",
    "Take the code from day1 and incorporate it here, to build a website summarizer that uses Llama 3.2 running locally instead of OpenAI; use either of the above approaches."
   ]
  },
  {
   "cell_type": "code",
   "execution_count": null,
   "id": "6de38216-6d1c-48c4-877b-86d403f4e0f8",
   "metadata": {},
   "outputs": [
    {
     "name": "stdout",
     "output_type": "stream",
     "text": [
      "# Summary of BBC News Website\n",
      "## Breaking News and Top Stories\n",
      "\n",
      "* **Israel-Gaza War**: Israel begins aid airdrops into Gaza, amid growing hunger crisis; aid groups warn that dropping food from air is risk to civilian lives\n",
      "* **Europe and Middle East**: Europe accused of going soft on Azerbaijan to avoid buying Russian gas; Trump calls on Thailand and Cambodia to stop fighting\n",
      "* **US and Canada**: US may not reach trade deal with Canada; Canadian wildfires prompt New York air quality alert\n",
      "* **Asia and Africa**: Bangladesh fighter jet crashes into primary school, killing at least 31 people; Nigeria seal 10th Wafcon as comeback stuns Morocco\n",
      "\n",
      "## Sports News\n",
      "\n",
      "* **UEFA Women's Euro**: England seek redemption against Spain in Euro 2025 final; Arsenal sign striker Viktor Gyokeres\n",
      "* **Formula 1**: Lewis Hamilton says it is \"incredibly painful\" to be knocked out in first session of qualifying for Belgian Grand Prix\n",
      "* **British & Irish Lions**: Australia coach Joe Schmidt says Jac Morgan's clearout should have been penalised\n",
      "\n",
      "## Business and Technology News\n",
      "\n",
      "* **Business**: Trump says US may not reach trade deal with Canada; US president's remarks come after Canadian Prime Minister Mark Carney signalled earlier this week that Canada \"will not accept a bad deal\"\n",
      "* **Technology**: Hackers steal images from women's dating safety app that vets men, raising concerns about beauty standards\n",
      "\n",
      "## Arts and Culture News\n",
      "\n",
      "* **Culture**: Bend It Like Beckham sequel in the works, director tells BBC; The would-be saint murdered 'mafia-style' for refusing bribes\n",
      "* **Arts**: Ghulam Mohammed Zaz fears for future of Kashmiri artisan's battle to save dying artform\n"
     ]
    }
   ],
   "source": [
    "headers = {\n",
    " \"User-Agent\": \"Mozilla/5.0 (Windows NT 10.0; Win64; x64) AppleWebKit/537.36 (KHTML, like Gecko) Chrome/117.0.0.0 Safari/537.36\"\n",
    "}\n",
    "\n",
    "class Website:\n",
    "\n",
    "    def __init__(self, url):\n",
    "        \"\"\"\n",
    "        Create this Website object from the given url using the BeautifulSoup library\n",
    "        \"\"\"\n",
    "        self.url = url\n",
    "        response = requests.get(url, headers=headers)\n",
    "        soup = BeautifulSoup(response.content, 'html.parser')\n",
    "        self.title = soup.title.string if soup.title else \"No title found\"\n",
    "        for irrelevant in soup.body([\"script\", \"style\", \"img\", \"input\"]):\n",
    "            irrelevant.decompose()\n",
    "        self.text = soup.body.get_text(separator=\"\\n\", strip=True)\n",
    "        \n",
    "\n",
    "\n",
    "system_prompt = \"You are an assistant that analyzes the contents of a website \\\n",
    "and provides a short summary, ignoring text that might be navigation related.\\\n",
    "Respond in markdown.\"\n",
    "\n",
    "def user_prompt_for(website):\n",
    "    user_prompt = f\"You are looking at a website titled {website.title}\"\n",
    "    user_prompt += \"\\nThe contents of this website is as follows; \\\n",
    "please provide a short summary of this website in markdown. \\\n",
    "If it includes news or announcements, then summarize these too.\\n\\n\"\n",
    "    user_prompt += website.text\n",
    "    return user_prompt\n",
    "\n",
    "\n",
    "\n",
    "def summerize_website(url):\n",
    "    \"\"\"\n",
    "    Summarize the contents of a website using the LLM\n",
    "    \"\"\"\n",
    "    website = Website(url)\n",
    "    messages = [\n",
    "        {\"role\": \"system\", \"content\": system_prompt},\n",
    "        {\"role\": \"user\", \"content\": user_prompt_for(website)}\n",
    "    ]\n",
    "    \n",
    "    response = ollama.chat(model=MODEL, messages=messages, stream=False)\n",
    "    return response['message']['content']\n",
    "\n",
    "print(summerize_website(\"https://www.bbc.com/news\"))\n"
   ]
  },
  {
   "cell_type": "code",
   "execution_count": null,
   "id": "2b39c859",
   "metadata": {},
   "outputs": [],
   "source": []
  }
 ],
 "metadata": {
  "kernelspec": {
   "display_name": "Python 3",
   "language": "python",
   "name": "python3"
  },
  "language_info": {
   "codemirror_mode": {
    "name": "ipython",
    "version": 3
   },
   "file_extension": ".py",
   "mimetype": "text/x-python",
   "name": "python",
   "nbconvert_exporter": "python",
   "pygments_lexer": "ipython3",
   "version": "3.11.13"
  }
 },
 "nbformat": 4,
 "nbformat_minor": 5
}
