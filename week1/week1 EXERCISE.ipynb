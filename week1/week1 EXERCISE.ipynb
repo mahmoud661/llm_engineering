{
 "cells": [
  {
   "cell_type": "markdown",
   "id": "fe12c203-e6a6-452c-a655-afb8a03a4ff5",
   "metadata": {},
   "source": [
    "# End of week 1 exercise\n",
    "\n",
    "To demonstrate your familiarity with OpenAI API, and also Ollama, build a tool that takes a technical question,  \n",
    "and responds with an explanation. This is a tool that you will be able to use yourself during the course!"
   ]
  },
  {
   "cell_type": "code",
   "execution_count": 19,
   "id": "c1070317-3ed9-4659-abe3-828943230e03",
   "metadata": {},
   "outputs": [],
   "source": [
    "# imports\n",
    "import ollama\n",
    "from IPython.display import Markdown, display, update_display\n"
   ]
  },
  {
   "cell_type": "code",
   "execution_count": null,
   "id": "4a456906-915a-4bfd-bb9d-57e505c5093f",
   "metadata": {},
   "outputs": [],
   "source": [
    "# constants\n",
    "\n",
    "MODEL_GPT = 'gpt-4o-mini'\n",
    "MODEL_LLAMA = 'llama3.2'"
   ]
  },
  {
   "cell_type": "code",
   "execution_count": null,
   "id": "a8d7923c-5f28-4c30-8556-342d7c8497c1",
   "metadata": {},
   "outputs": [],
   "source": [
    "# set up environment"
   ]
  },
  {
   "cell_type": "code",
   "execution_count": 24,
   "id": "3f0d0137-52b0-47a8-81a8-11a90a010798",
   "metadata": {},
   "outputs": [],
   "source": [
    "# here is the question; type over this to ask something new\n",
    "\n",
    "question = \"\"\"\n",
    "Please explain what this code does and why:\n",
    "yield from {book.get(\"author\") for book in books if book.get(\"author\")}\n",
    "\"\"\""
   ]
  },
  {
   "cell_type": "code",
   "execution_count": 6,
   "id": "60ce7000-a4a5-4cce-a261-e75ef45063b4",
   "metadata": {},
   "outputs": [],
   "source": [
    "# Get gpt-4o-mini to answer, with streaming"
   ]
  },
  {
   "cell_type": "code",
   "execution_count": 25,
   "id": "8f7c8ea8-4082-4ad0-8751-3301adcf6538",
   "metadata": {},
   "outputs": [
    {
     "data": {
      "text/markdown": [
       "This line of code is written in Python and utilizes a concept called a generator expression.\n",
       "\n",
       "Here's a breakdown:\n",
       "\n",
       "1. `{...}`: This is an example of a dictionary literal, where you define key-value pairs.\n",
       "\n",
       "2. `book.get(\"author\")`: For each item `book` in the collection `books`, this line attempts to retrieve the value associated with the key `\"author\"` from that book (assuming it's a dictionary). The `.get()` method is used here to avoid KeyError if the key doesn't exist, returning `None` instead.\n",
       "\n",
       "3. `for book in books`: This part iterates over each item in the collection `books`.\n",
       "\n",
       "4. `if book.get(\"author\")`: Only items that have an `\"author\"` key are included in the iteration (this is a common idiom to filter on multiple conditions).\n",
       "\n",
       "5. `yield from {...}`: When you use `yield from`, it takes the iterable (`book.get(\"author\") for book in books if book.get(\"author\")`) and creates a new generator that yields its elements one by one, rather than trying to create an entire list of them.\n",
       "\n",
       "This line effectively returns all authors from the collection `books` where each item is represented as a dictionary. The `yield from` part ensures it does so without loading the entire collection into memory at once, which could be beneficial when dealing with very large datasets.\n",
       "\n",
       "Here's a more explicit way to write this same code:\n",
       "\n",
       "python\n",
       "authors = []\n",
       "for book in books:\n",
       "    author = book.get(\"author\")\n",
       "    if author is not None:\n",
       "        authors.append(author)\n",
       "\n",
       "yield from authors\n",
       "\n",
       "\n",
       "However, the original code does one thing more efficiently: it only loads each `book` dictionary into memory once, so no extra memory is needed to process all of them. \n",
       "\n",
       "python\n",
       "for book in books:\n",
       "    if book.get(\"author\"):\n",
       "        yield book[\"author\"]\n"
      ],
      "text/plain": [
       "<IPython.core.display.Markdown object>"
      ]
     },
     "metadata": {},
     "output_type": "display_data"
    }
   ],
   "source": [
    "# Get Llama 3.2 to answer\n",
    "\n",
    "\n",
    "\n",
    "stream = ollama.chat(\n",
    "    MODEL_LLAMA,\n",
    "    messages = [\n",
    "        {'role': 'user', 'content': question}\n",
    "        ],\n",
    "    stream=True,\n",
    "    )\n",
    "\n",
    "\n",
    "response = \"\"\n",
    "display_handle = display(Markdown(\"\"), display_id=True)\n",
    "for chunk in stream:\n",
    "    response += chunk.message.content or ''\n",
    "    response = response.replace(\"```\",\"\").replace(\"markdown\", \"\")\n",
    "    update_display(Markdown(response), display_id=display_handle.display_id)"
   ]
  },
  {
   "cell_type": "code",
   "execution_count": null,
   "id": "aa07eacd",
   "metadata": {},
   "outputs": [],
   "source": []
  },
  {
   "cell_type": "code",
   "execution_count": null,
   "id": "1ffb0fa4",
   "metadata": {},
   "outputs": [],
   "source": []
  }
 ],
 "metadata": {
  "kernelspec": {
   "display_name": "Python 3",
   "language": "python",
   "name": "python3"
  },
  "language_info": {
   "codemirror_mode": {
    "name": "ipython",
    "version": 3
   },
   "file_extension": ".py",
   "mimetype": "text/x-python",
   "name": "python",
   "nbconvert_exporter": "python",
   "pygments_lexer": "ipython3",
   "version": "3.11.13"
  }
 },
 "nbformat": 4,
 "nbformat_minor": 5
}
